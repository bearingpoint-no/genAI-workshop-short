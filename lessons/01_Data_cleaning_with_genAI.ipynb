{
 "cells": [
  {
   "cell_type": "markdown",
   "metadata": {},
   "source": [
    "# Short GenAI Workshop\n",
    "\n",
    "In this workshop we will assist the toy manufacturerer \"LykkeLand Leketøysfabrikk\". Their internal data warehouse is a mess and they want us to help."
   ]
  },
  {
   "cell_type": "markdown",
   "metadata": {},
   "source": [
    "## Setup\n",
    "\n",
    "### Download repository and install required packages if using Google Colab"
   ]
  },
  {
   "cell_type": "code",
   "execution_count": 2,
   "metadata": {},
   "outputs": [],
   "source": [
    "import sys\n",
    "import os\n",
    "\n",
    "IN_COLAB = 'google.colab' in str(get_ipython())\n",
    "if IN_COLAB:\n",
    "    COLAB_PACKAGE_PATH = '/content/genAI-workshop-short'\n",
    "    if not os.path.isdir(COLAB_PACKAGE_PATH):\n",
    "        %cd {os.path.dirname(COLAB_PACKAGE_PATH)}\n",
    "        !git clone https://github.com/bearingpoint-no/genAI-workshop-short\n",
    "    %cd {COLAB_PACKAGE_PATH}\n",
    "    !git pull\n",
    "    print(\"Installing required packages\")\n",
    "    %pip install -r requirements_colab.txt -q\n",
    "    print(\"Finished installing packages\")\n",
    "    %cd {os.path.join(COLAB_PACKAGE_PATH, 'lessons')}"
   ]
  },
  {
   "cell_type": "markdown",
   "metadata": {},
   "source": [
    "### Load .env variables\n",
    "\n",
    "We use our own helper function to support running this both within google colab and regular Jupyter notebooks within the repository structure."
   ]
  },
  {
   "cell_type": "code",
   "execution_count": 3,
   "metadata": {},
   "outputs": [],
   "source": [
    "# Add the parent directory to sys.path in order to import hackathon module\n",
    "sys.path.append('..')\n",
    "\n",
    "from hackathon.env import load_env\n",
    "load_env(\n",
    "    load_type=\"interactive\",\n",
    "    use_defaults=True,\n",
    "    override=True,\n",
    ")"
   ]
  },
  {
   "cell_type": "markdown",
   "metadata": {},
   "source": [
    "### Import libraries and define helper functions"
   ]
  },
  {
   "cell_type": "code",
   "execution_count": 4,
   "metadata": {},
   "outputs": [],
   "source": [
    "%load_ext autoreload\n",
    "%autoreload 2\n",
    "\n",
    "import os\n",
    "import pandas as pd\n",
    "\n",
    "from pprint import pprint\n",
    "from openai import AzureOpenAI\n",
    "from IPython.display import Markdown\n",
    "\n",
    "client = AzureOpenAI(\n",
    "    # api_version=os.environ[\"AZURE_OPENAI_API_KEY\"],\n",
    "    # api_key=os.environ[\"AZURE_OPENAI_ENDPOINT\"],\n",
    "    # api_version=os.environ[\"OPENAI_API_VERSION\"],\n",
    ")"
   ]
  },
  {
   "cell_type": "code",
   "execution_count": 5,
   "metadata": {},
   "outputs": [],
   "source": [
    "def get_completion_from_prompt(prompt: str) -> str:\n",
    "    \"\"\"\n",
    "    Function that creates a post against openAI chatGPT service\n",
    "    in Azure AI from a string prompt and returns the first and\n",
    "    most deterministic response/completion.\n",
    "\n",
    "    :param prompt: A string prompt to be sent to the chatGPT service\n",
    "\n",
    "    :return: A string representation of the first answer proposed by the algorithm\n",
    "    \"\"\"\n",
    "    messages = [{\"role\": \"user\", \"content\": prompt}]\n",
    "\n",
    "    response = client.chat.completions.create(\n",
    "        model=os.environ[\"MODEL_DEPLOYMENT_NAME\"],\n",
    "        messages=messages,\n",
    "        temperature=0,\n",
    "    )\n",
    "\n",
    "    return response.choices[0].message.content"
   ]
  },
  {
   "cell_type": "code",
   "execution_count": 6,
   "metadata": {},
   "outputs": [
    {
     "data": {
      "text/plain": [
       "'Hello! How can I assist you today?'"
      ]
     },
     "execution_count": 6,
     "metadata": {},
     "output_type": "execute_result"
    }
   ],
   "source": [
    "# Verify correct setup\n",
    "get_completion_from_prompt(\"Hello\")"
   ]
  },
  {
   "cell_type": "markdown",
   "metadata": {},
   "source": [
    "# Task: Data Cleaning of Product Reviews from Text Data\n",
    "\n",
    "LykkeLand has gathered a substantial amount of product reviews to assess customer satisfaction. Unfortunately, the data collection process overlooked the inclusion of critical numerical and categorical fields, which is a limiting factor for the quality of analysis available. The dataset comprises usernames, dates, locations, review titles, and the main body of the text, collected from customers in both Norway and abroad. However, it lacks detailed information about the specific products being reviewed. Despite these limitations, there's still potential for meaningful analysis by leveraging language models to impute missing details and categorize the reviews based on the available text.\n",
    "\n",
    "*Note: This notebook assumes a basic familiarity with the Pandas library.*\n"
   ]
  },
  {
   "cell_type": "markdown",
   "metadata": {},
   "source": [
    "## Explore data\n",
    "The product reviews collected from customers over the past few months are stored in an Excel sheet. Let's take a look"
   ]
  },
  {
   "cell_type": "code",
   "execution_count": 7,
   "metadata": {},
   "outputs": [
    {
     "data": {
      "text/html": [
       "<div>\n",
       "<style scoped>\n",
       "    .dataframe tbody tr th:only-of-type {\n",
       "        vertical-align: middle;\n",
       "    }\n",
       "\n",
       "    .dataframe tbody tr th {\n",
       "        vertical-align: top;\n",
       "    }\n",
       "\n",
       "    .dataframe thead th {\n",
       "        text-align: right;\n",
       "    }\n",
       "</style>\n",
       "<table border=\"1\" class=\"dataframe\">\n",
       "  <thead>\n",
       "    <tr style=\"text-align: right;\">\n",
       "      <th></th>\n",
       "      <th>username</th>\n",
       "      <th>date</th>\n",
       "      <th>location</th>\n",
       "      <th>title</th>\n",
       "      <th>body</th>\n",
       "    </tr>\n",
       "  </thead>\n",
       "  <tbody>\n",
       "    <tr>\n",
       "      <th>0</th>\n",
       "      <td>Stjernestøv78</td>\n",
       "      <td>2023-02-01</td>\n",
       "      <td>Mo i Rana</td>\n",
       "      <td>Nattlig Magi Med StjerneSøkeren</td>\n",
       "      <td>Helt siden vi fikk den hjem har det vært stjer...</td>\n",
       "    </tr>\n",
       "    <tr>\n",
       "      <th>1</th>\n",
       "      <td>afitloop</td>\n",
       "      <td>2023-02-04</td>\n",
       "      <td>Sharjah</td>\n",
       "      <td>مراجعة لعبة القلعة الخشبية</td>\n",
       "      <td>بصراحة، استفدنا من القلعة الخشبية اللي اشترينا...</td>\n",
       "    </tr>\n",
       "    <tr>\n",
       "      <th>2</th>\n",
       "      <td>JazzyJeff75</td>\n",
       "      <td>2023-02-05</td>\n",
       "      <td>Marseille</td>\n",
       "      <td>Ca a vraiment un truc ce RoboRex!</td>\n",
       "      <td>Alors voila, j'ai acheté le RoboRex pour le fi...</td>\n",
       "    </tr>\n",
       "    <tr>\n",
       "      <th>3</th>\n",
       "      <td>JustineDuJour</td>\n",
       "      <td>2023-02-05</td>\n",
       "      <td>Marseille, France</td>\n",
       "      <td>Un robot dino trop cool!</td>\n",
       "      <td>Alors là, franchement, chapeau! J’ai offert le...</td>\n",
       "    </tr>\n",
       "    <tr>\n",
       "      <th>4</th>\n",
       "      <td>Stjernemamma82</td>\n",
       "      <td>2023-02-05</td>\n",
       "      <td>Göteborg</td>\n",
       "      <td>Underbar stjärnhimmel, men produkten fanns int...</td>\n",
       "      <td>Beställde StjerneSøkeren till min dotter som ä...</td>\n",
       "    </tr>\n",
       "    <tr>\n",
       "      <th>...</th>\n",
       "      <td>...</td>\n",
       "      <td>...</td>\n",
       "      <td>...</td>\n",
       "      <td>...</td>\n",
       "      <td>...</td>\n",
       "    </tr>\n",
       "    <tr>\n",
       "      <th>58</th>\n",
       "      <td>FuriousMommaBear87</td>\n",
       "      <td>2023-04-15</td>\n",
       "      <td>Tampa, FL</td>\n",
       "      <td>Absolutely Appalled by the Service!</td>\n",
       "      <td>okay, so where do i begin? i ordered the Skoge...</td>\n",
       "    </tr>\n",
       "    <tr>\n",
       "      <th>59</th>\n",
       "      <td>AuroraSol</td>\n",
       "      <td>2023-04-17</td>\n",
       "      <td>Lillehammer, Norge</td>\n",
       "      <td>Søt leke, men litt for dyr</td>\n",
       "      <td>Har akkurat fått Skogeventyrssettet i posten o...</td>\n",
       "    </tr>\n",
       "    <tr>\n",
       "      <th>60</th>\n",
       "      <td>FjellEntusiast42</td>\n",
       "      <td>2023-04-18</td>\n",
       "      <td>Lom, Norge</td>\n",
       "      <td>Artig tid med RoboRex</td>\n",
       "      <td>Kjøpte denne robotdinosaurleken til 5-åringen ...</td>\n",
       "    </tr>\n",
       "    <tr>\n",
       "      <th>61</th>\n",
       "      <td>HyperHilda</td>\n",
       "      <td>2023-04-20</td>\n",
       "      <td>Oslo</td>\n",
       "      <td>Sykt kult labsett!</td>\n",
       "      <td>Ok, må bare si at KrystallVekst Laben min har ...</td>\n",
       "    </tr>\n",
       "    <tr>\n",
       "      <th>62</th>\n",
       "      <td>StarGazer84</td>\n",
       "      <td>2023-04-26</td>\n",
       "      <td>Gøteborg</td>\n",
       "      <td>Took bottle rockets to a whole new level!</td>\n",
       "      <td>So we bought this KrystallVekst Lab toolkit fo...</td>\n",
       "    </tr>\n",
       "  </tbody>\n",
       "</table>\n",
       "<p>63 rows × 5 columns</p>\n",
       "</div>"
      ],
      "text/plain": [
       "              username       date            location  \\\n",
       "0        Stjernestøv78 2023-02-01           Mo i Rana   \n",
       "1             afitloop 2023-02-04             Sharjah   \n",
       "2          JazzyJeff75 2023-02-05           Marseille   \n",
       "3        JustineDuJour 2023-02-05   Marseille, France   \n",
       "4       Stjernemamma82 2023-02-05            Göteborg   \n",
       "..                 ...        ...                 ...   \n",
       "58  FuriousMommaBear87 2023-04-15           Tampa, FL   \n",
       "59           AuroraSol 2023-04-17  Lillehammer, Norge   \n",
       "60    FjellEntusiast42 2023-04-18          Lom, Norge   \n",
       "61          HyperHilda 2023-04-20                Oslo   \n",
       "62         StarGazer84 2023-04-26            Gøteborg   \n",
       "\n",
       "                                                title  \\\n",
       "0                     Nattlig Magi Med StjerneSøkeren   \n",
       "1                          مراجعة لعبة القلعة الخشبية   \n",
       "2                   Ca a vraiment un truc ce RoboRex!   \n",
       "3                            Un robot dino trop cool!   \n",
       "4   Underbar stjärnhimmel, men produkten fanns int...   \n",
       "..                                                ...   \n",
       "58                Absolutely Appalled by the Service!   \n",
       "59                         Søt leke, men litt for dyr   \n",
       "60                              Artig tid med RoboRex   \n",
       "61                                 Sykt kult labsett!   \n",
       "62          Took bottle rockets to a whole new level!   \n",
       "\n",
       "                                                 body  \n",
       "0   Helt siden vi fikk den hjem har det vært stjer...  \n",
       "1   بصراحة، استفدنا من القلعة الخشبية اللي اشترينا...  \n",
       "2   Alors voila, j'ai acheté le RoboRex pour le fi...  \n",
       "3   Alors là, franchement, chapeau! J’ai offert le...  \n",
       "4   Beställde StjerneSøkeren till min dotter som ä...  \n",
       "..                                                ...  \n",
       "58  okay, so where do i begin? i ordered the Skoge...  \n",
       "59  Har akkurat fått Skogeventyrssettet i posten o...  \n",
       "60  Kjøpte denne robotdinosaurleken til 5-åringen ...  \n",
       "61  Ok, må bare si at KrystallVekst Laben min har ...  \n",
       "62  So we bought this KrystallVekst Lab toolkit fo...  \n",
       "\n",
       "[63 rows x 5 columns]"
      ]
     },
     "execution_count": 7,
     "metadata": {},
     "output_type": "execute_result"
    }
   ],
   "source": [
    "from hackathon.data.fetch import product_reviews as fetch_product_reviews\n",
    "df = fetch_product_reviews()\n",
    "df"
   ]
  },
  {
   "cell_type": "markdown",
   "metadata": {},
   "source": [
    "Let's take a look at a single review in the sheet:"
   ]
  },
  {
   "cell_type": "code",
   "execution_count": null,
   "metadata": {},
   "outputs": [],
   "source": [
    "single_review = df.iloc[-1]\n",
    "\n",
    "pprint(single_review.to_dict())"
   ]
  },
  {
   "cell_type": "markdown",
   "metadata": {},
   "source": [
    "## Translating and summarizing reviews\n",
    "To get a clear picture of what our customers think, we need to translate all reviews into a language we can read. It would also be useful with a dense summary. This way, we can quickly catch their general vibe and pinpoint the exact issues or compliments they're highlighting."
   ]
  },
  {
   "cell_type": "code",
   "execution_count": null,
   "metadata": {},
   "outputs": [],
   "source": [
    "# TODO: Write a prompt which translates the review body into English and summarizes it\n",
    "\n",
    "def condense_and_translate_review(review: pd.Series) -> str:\n",
    "    prompt = f\"\"\"Please summarize the following review in one English sentence:\n",
    "Title: <title> {review[\"title\"]} </title>\n",
    "Review: <review> {review[\"body\"]} </review>    \n",
    "\"\"\"\n",
    "    return get_completion_from_prompt(prompt)"
   ]
  },
  {
   "cell_type": "code",
   "execution_count": null,
   "metadata": {},
   "outputs": [],
   "source": [
    "# Test: check if the function works as expected. The output should be a string\n",
    "# containing a summary of the review body in English\n",
    "\n",
    "pprint(condense_and_translate_review(single_review))"
   ]
  },
  {
   "cell_type": "code",
   "execution_count": null,
   "metadata": {},
   "outputs": [],
   "source": [
    "# Standardize and translate review body for each row in the dataframe\n",
    "df[\"standardized_body\"] = df.apply(lambda row: condense_and_translate_review(row), axis=1)"
   ]
  },
  {
   "cell_type": "code",
   "execution_count": null,
   "metadata": {},
   "outputs": [],
   "source": [
    "df[\"standardized_body\"]"
   ]
  },
  {
   "cell_type": "markdown",
   "metadata": {},
   "source": [
    "#### Find trends in the reviews\n",
    "We can also summarize all the rows to gain an overview of common complaints among customers."
   ]
  },
  {
   "cell_type": "code",
   "execution_count": null,
   "metadata": {},
   "outputs": [],
   "source": [
    "all_review_bodies = \"\\n\\n\".join(df[\"standardized_body\"].to_list())"
   ]
  },
  {
   "cell_type": "code",
   "execution_count": null,
   "metadata": {},
   "outputs": [],
   "source": [
    "prompt = \"\"\"Summarize the following reviews:\"\"\" # your prompt here\n",
    "for review in df[\"standardized_body\"]:\n",
    "    prompt += f\"\\n\\n<review>{review}</review>\"\n",
    "prompt += \"\"\"Use the following output format:\n",
    "### Product related feedback\n",
    "**<product>**: <feedback summary> \\n\n",
    "\n",
    "### Other feedback\n",
    "\n",
    "### Summary\n",
    "\n",
    "### Recommendations\n",
    "<recommendations for what LykkeLand can do to improve the products or customer satisfaction>\n",
    "\"\"\"\n",
    "# pprint(prompt)\n",
    "condensed_reviews = get_completion_from_prompt(prompt)\n"
   ]
  },
  {
   "cell_type": "code",
   "execution_count": null,
   "metadata": {},
   "outputs": [],
   "source": [
    "Markdown(condensed_reviews)"
   ]
  },
  {
   "cell_type": "code",
   "execution_count": null,
   "metadata": {},
   "outputs": [],
   "source": []
  },
  {
   "cell_type": "markdown",
   "metadata": {},
   "source": [
    "## Inferring country from location\n",
    "\n",
    "The location data column is less than ideal. Unfortunately, there has been no validation in the form when the customer filled out location. As you see below, sometimes location is written as \"city, country\", sometimes just \"city\", sometimes just country and sometimes even \"city, state\"."
   ]
  },
  {
   "cell_type": "code",
   "execution_count": null,
   "metadata": {},
   "outputs": [],
   "source": [
    "print(set(df[\"location\"].to_list()))"
   ]
  },
  {
   "cell_type": "markdown",
   "metadata": {},
   "source": [
    "We can use a language model to standardize this information. Let's try to extract the country for each review.\n",
    "\n",
    "**Note:** A potential problem can be that there are multiple ways to write the same country name, i.e. Norway/Kingdom of Norway/Norge/Noreg etc. If you encounter this issue, how can it be fixed?\n",
    "\n",
    "Try to minimize the amount of information you give the model. Does it need all of the review information to do this task?"
   ]
  },
  {
   "cell_type": "code",
   "execution_count": null,
   "metadata": {},
   "outputs": [],
   "source": [
    "# TODO: write a prompt which classifies the country of the review based on the available unique countries\n",
    "\n",
    "def get_country(review: pd.Series) -> str:\n",
    "    prompt = f\"\"\"Return the country which this review is from. Just the English country name, nothing else.\n",
    "    \n",
    "    Location: {review.location}\n",
    "    Review title: {review.title}\n",
    "\"\"\" # your prompt here\n",
    "    country = get_completion_from_prompt(prompt)\n",
    "    return country"
   ]
  },
  {
   "cell_type": "code",
   "execution_count": null,
   "metadata": {},
   "outputs": [],
   "source": [
    "# Test: check if the function works as expected. The output should be a string\n",
    "# containing the country of the review\n",
    "get_country(single_review) "
   ]
  },
  {
   "cell_type": "markdown",
   "metadata": {},
   "source": [
    "Now let's create a new column called country where we perform this operation for every row in the dataset:"
   ]
  },
  {
   "cell_type": "code",
   "execution_count": null,
   "metadata": {},
   "outputs": [],
   "source": [
    "# Classify the country for each review in the dataframe\n",
    "df[\"country\"] = df.apply(lambda row: get_country(row), axis=1)"
   ]
  },
  {
   "cell_type": "markdown",
   "metadata": {},
   "source": [
    "Let's plot the result of the classification"
   ]
  },
  {
   "cell_type": "code",
   "execution_count": null,
   "metadata": {},
   "outputs": [],
   "source": [
    "import seaborn as sns\n",
    "import matplotlib.pyplot as plt\n",
    "\n",
    "# Count the occurrences of each country\n",
    "shipment_counts = df[\"country\"].value_counts().sort_index()\n",
    "\n",
    "# Create the bar plot using Seaborn\n",
    "plt.figure(figsize=(12, 6))\n",
    "ax = sns.barplot(\n",
    "    x=shipment_counts.index,\n",
    "    y=shipment_counts.values,\n",
    "    hue=shipment_counts.index,\n",
    "    palette=\"Blues_d\",\n",
    "    dodge=False,\n",
    "    legend=False\n",
    ")\n",
    "\n",
    "# Add value labels on top of each bar\n",
    "for container in ax.containers:\n",
    "    ax.bar_label(container, fmt='%d', label_type='edge', padding=3)\n",
    "\n",
    "# Adjust y-axis limits to add space above the tallest bar\n",
    "ax.set_ylim(0, shipment_counts.max() * 1.1)  # Increase limit by 10%\n",
    "\n",
    "# Customize the plot\n",
    "ax.set_xlabel(\"Country\", fontsize=14)\n",
    "ax.set_ylabel(\"Number of Shipments\", fontsize=14)\n",
    "ax.set_title(\"Number of Shipments to Each Country\", fontsize=16)\n",
    "ax.tick_params(axis=\"x\", rotation=45)\n",
    "\n",
    "# Show the plot\n",
    "plt.tight_layout()\n",
    "plt.show()"
   ]
  },
  {
   "cell_type": "markdown",
   "metadata": {},
   "source": [
    "### Verify if you succeeded"
   ]
  },
  {
   "cell_type": "code",
   "execution_count": null,
   "metadata": {},
   "outputs": [],
   "source": [
    "from hackathon.evaluation.country_inferring import verify as verify_country_inferring\n",
    "\n",
    "verify_country_inferring(df, print_errors=True)"
   ]
  },
  {
   "cell_type": "markdown",
   "metadata": {},
   "source": [
    "## Rating classification\n",
    "We aim to quantify a customer's satisfaction level by assigning a numerical score to the review text, for example, ranging from 1 to 5. This process will allow us to systematically evaluate and compare customer feedback, providing a clear metric to gauge overall contentment or dissatisfaction."
   ]
  },
  {
   "cell_type": "code",
   "execution_count": null,
   "metadata": {},
   "outputs": [],
   "source": [
    "# TODO: write a prompt which classifies the rating of each review on a scale from 1 to 5\n",
    "\n",
    "def get_rating(review: pd.Series) -> int:\n",
    "    prompt = f\"\"\"Rate the following review on a scale from 1 to 5, where 1 is the lowest and 5 is the highest. Output only the number.\n",
    "\n",
    "<review>{review[\"body\"]}</review>\n",
    "\n",
    "Guidance:\n",
    "1: Very negative review\n",
    "2: Negative review\n",
    "3: Neutral review. Customer either both liked and disliked the product or was indifferent.\n",
    "4: Positive review\n",
    "5: Very positive review\n",
    "\"\"\"\n",
    "    rating = get_completion_from_prompt(prompt)\n",
    "    return int(rating)"
   ]
  },
  {
   "cell_type": "code",
   "execution_count": null,
   "metadata": {},
   "outputs": [],
   "source": [
    "# Test: check if the function works as expected. The output should be an integer\n",
    "# containing the rating of the review\n",
    "get_rating(single_review)"
   ]
  },
  {
   "cell_type": "code",
   "execution_count": null,
   "metadata": {},
   "outputs": [],
   "source": [
    "# Impute the rating for each review in the dataframe\n",
    "df[\"rating\"] = df.apply(lambda row: get_rating(row), axis=1)"
   ]
  },
  {
   "cell_type": "markdown",
   "metadata": {},
   "source": [
    "Let's plot the rating distribution:"
   ]
  },
  {
   "cell_type": "code",
   "execution_count": null,
   "metadata": {},
   "outputs": [],
   "source": [
    "import seaborn as sns\n",
    "import matplotlib.pyplot as plt\n",
    "\n",
    "# Count the occurrences of each rating\n",
    "rating_counts = df[\"rating\"].value_counts().sort_index()\n",
    "\n",
    "# Create the bar plot using Seaborn\n",
    "plt.figure(figsize=(10, 6))\n",
    "ax = sns.barplot(\n",
    "    x=rating_counts.index,\n",
    "    y=rating_counts.values,\n",
    "    hue=rating_counts.index,\n",
    "    palette=\"Blues_d\",\n",
    "    dodge=False,\n",
    "    legend=False\n",
    ")\n",
    "\n",
    "# Customize the plot\n",
    "ax.set_xlabel(\"Rating\", fontsize=14)\n",
    "ax.set_ylabel(\"Frequency\", fontsize=14)\n",
    "ax.set_title(\"Frequency of Each Rating Value\", fontsize=16)\n",
    "ax.tick_params(axis=\"both\", which=\"major\", labelsize=12)\n",
    "\n",
    "# Show the plot\n",
    "plt.tight_layout()\n",
    "plt.show()"
   ]
  },
  {
   "cell_type": "markdown",
   "metadata": {},
   "source": [
    "And the average rating by country:"
   ]
  },
  {
   "cell_type": "code",
   "execution_count": null,
   "metadata": {},
   "outputs": [],
   "source": [
    "import seaborn as sns\n",
    "import matplotlib.pyplot as plt\n",
    "\n",
    "# Calculate the average rating by country\n",
    "average_ratings = df.groupby(\"country\")[\"rating\"].mean().sort_index()\n",
    "\n",
    "# Create the bar plot using Seaborn\n",
    "plt.figure(figsize=(10, 6))\n",
    "ax = sns.barplot(\n",
    "    x=average_ratings.index,\n",
    "    y=average_ratings.values,\n",
    "    hue=average_ratings.index,\n",
    "    palette=\"Blues_d\",\n",
    "    edgecolor=\"darkblue\",\n",
    "    legend=False\n",
    ")\n",
    "\n",
    "# Customize the plot\n",
    "ax.set_xlabel(\"Country\", fontsize=14)\n",
    "ax.set_ylabel(\"Average Rating\", fontsize=14)\n",
    "ax.set_title(\"Average Rating by Country\", fontsize=16)\n",
    "ax.tick_params(axis=\"x\", rotation=45)\n",
    "ax.tick_params(axis=\"both\", which=\"major\", labelsize=12)\n",
    "\n",
    "# Show the plot\n",
    "plt.tight_layout()\n",
    "plt.show()"
   ]
  },
  {
   "cell_type": "markdown",
   "metadata": {},
   "source": [
    "#### Verify your analysis"
   ]
  },
  {
   "cell_type": "markdown",
   "metadata": {},
   "source": [
    "Based on the graph you just plotted. What do you observe? We want you to extract **two** specific insights.\n",
    "\n",
    "**Note:** Simplify it. Don't consider that there can be errors due to small sample sizes."
   ]
  },
  {
   "cell_type": "code",
   "execution_count": null,
   "metadata": {},
   "outputs": [],
   "source": [
    "from hackathon.evaluation.country_ratings_analysis import evaluate as evaluate_country_ratings_analysis\n",
    "\n",
    "YOUR_ANSWER = \"China has the most satisfied customers, USA has the least.\"\n",
    "\n",
    "print(evaluate_country_ratings_analysis(YOUR_ANSWER))"
   ]
  },
  {
   "cell_type": "markdown",
   "metadata": {},
   "source": [
    "## Visualize temporal trends\n",
    "We can create visual representations to track how ratings from a specific country evolve over time. By plotting these ratings, we can identify patterns, trends, or anomalies, offering valuable insights into how customer satisfaction may vary with different factors or events. This analysis could help in making informed decisions or adjustments in strategy based on temporal shifts in customer feedback."
   ]
  },
  {
   "cell_type": "code",
   "execution_count": null,
   "metadata": {},
   "outputs": [],
   "source": [
    "df[\"date\"] = pd.to_datetime(df[\"date\"])\n",
    "france_ratings = df[df[\"country\"] == \"France\"].sort_values(\"date\")"
   ]
  },
  {
   "cell_type": "code",
   "execution_count": null,
   "metadata": {},
   "outputs": [],
   "source": [
    "import seaborn as sns\n",
    "import matplotlib.pyplot as plt\n",
    "\n",
    "# Create the line plot using Seaborn\n",
    "plt.figure(figsize=(10, 6))\n",
    "ax = sns.lineplot(\n",
    "    x=\"date\",\n",
    "    y=\"rating\",\n",
    "    data=france_ratings,\n",
    "    marker=\"o\",\n",
    "    color=\"skyblue\",\n",
    "    errorbar=None\n",
    ")\n",
    "\n",
    "# Customize the plot\n",
    "ax.set_xlabel(\"Date\", fontsize=14)\n",
    "ax.set_ylabel(\"Rating\", fontsize=14)\n",
    "ax.set_title(\"Ratings Over Time for France\", fontsize=16)\n",
    "ax.tick_params(axis=\"x\", rotation=45)\n",
    "ax.tick_params(axis=\"both\", which=\"major\", labelsize=12)\n",
    "\n",
    "# Show the plot\n",
    "plt.tight_layout()\n",
    "plt.show()"
   ]
  },
  {
   "cell_type": "markdown",
   "metadata": {},
   "source": [
    "**Task:** Why does it seem like the ratings for France has detoriated after 2023-03-15? Find the answer by analyzing the (relevant) reviews using a LLM."
   ]
  },
  {
   "cell_type": "code",
   "execution_count": null,
   "metadata": {},
   "outputs": [],
   "source": []
  },
  {
   "cell_type": "markdown",
   "metadata": {},
   "source": [
    "## Next steps: Experiment and play with the data yourself"
   ]
  },
  {
   "cell_type": "code",
   "execution_count": null,
   "metadata": {},
   "outputs": [],
   "source": []
  }
 ],
 "metadata": {
  "kernelspec": {
   "display_name": ".venv",
   "language": "python",
   "name": "python3"
  },
  "language_info": {
   "codemirror_mode": {
    "name": "ipython",
    "version": 3
   },
   "file_extension": ".py",
   "mimetype": "text/x-python",
   "name": "python",
   "nbconvert_exporter": "python",
   "pygments_lexer": "ipython3",
   "version": "3.11.0rc1"
  }
 },
 "nbformat": 4,
 "nbformat_minor": 2
}
